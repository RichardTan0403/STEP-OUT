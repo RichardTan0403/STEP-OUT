{
 "cells": [
  {
   "cell_type": "code",
   "execution_count": 1,
   "id": "3ebb6f9e",
   "metadata": {
    "scrolled": true
   },
   "outputs": [
    {
     "name": "stdout",
     "output_type": "stream",
     "text": [
      " * Serving Flask app \"__main__\" (lazy loading)\n",
      " * Environment: production\n",
      "\u001b[31m   WARNING: This is a development server. Do not use it in a production deployment.\u001b[0m\n",
      "\u001b[2m   Use a production WSGI server instead.\u001b[0m\n",
      " * Debug mode: off\n"
     ]
    },
    {
     "name": "stderr",
     "output_type": "stream",
     "text": [
      " * Running on http://127.0.0.1:5000/ (Press CTRL+C to quit)\n",
      "127.0.0.1 - - [21/Apr/2023 11:36:40] \"GET / HTTP/1.1\" 200 -\n"
     ]
    },
    {
     "name": "stdout",
     "output_type": "stream",
     "text": [
      "[0, 1, 0, 0, 0, 0, 0, 0, 0, 0, 0]\n"
     ]
    },
    {
     "name": "stderr",
     "output_type": "stream",
     "text": [
      "127.0.0.1 - - [21/Apr/2023 11:36:45] \"POST /result HTTP/1.1\" 200 -\n"
     ]
    },
    {
     "name": "stdout",
     "output_type": "stream",
     "text": [
      "[0]\n"
     ]
    }
   ],
   "source": [
    "from flask import Flask,render_template,request\n",
    "import pickle\n",
    "import numpy as np\n",
    "\n",
    "app = Flask(__name__)\n",
    "\n",
    "@app.route('/')\n",
    "def greeting():\n",
    "    return render_template('form.html')\n",
    "\n",
    "# @app.route('/data/', methods = ['POST', 'GET'])\n",
    "# def data():\n",
    "#     form_data = request.form\n",
    "#     if request.method == 'GET':\n",
    "#         return str(list(form_data.values()))\n",
    "#     if request.method == 'POST':\n",
    "#         form_data = request.form\n",
    "#         return render_template('data.html',form_data = form_data)\n",
    "\n",
    "# @app.route('/model')\n",
    "# def model():\n",
    "#     loaded_model = pickle.load(open('Capstone_RFC_model.sav','rb'))\n",
    "#     a = [1,1,0,0,0,1,1,1,0,1,0]\n",
    "#     a = np.expand_dims(a,0)\n",
    "#     result = str(loaded_model.predict(a))\n",
    "#     return result\n",
    "\n",
    "\n",
    "# @app.route(\"/calculate-estimate\", methods=[\"GET\"])\n",
    "# def calculate_estimate():\n",
    "#     estimate = request.args.get(\"estimate\")\n",
    "#     return estimate\n",
    "\n",
    "# @app.route(\"/fav_language\", methods=[\"GET\"])\n",
    "# def fav_language():\n",
    "#     estimate = request.args.get(\"fav_language\")\n",
    "#     return estimate\n",
    "\n",
    "@app.route(\"/result\", methods=['POST'])\n",
    "def predict(): \n",
    "    form_data = request.form\n",
    "    x = list(form_data.values())\n",
    "    x.pop(0)\n",
    "    y = ['Age', \n",
    "         'Diarrhea', \n",
    "         'Difficulty in Breathing', \n",
    "         'Dry Cough', \n",
    "         'Fever', \n",
    "         'Nasal', \n",
    "         'Pains', \n",
    "         'Runny Nose', \n",
    "         'Sore Throat', \n",
    "         'Tireness']\n",
    "    z = [int(x[0])]\n",
    "    for i in range(len(y)):\n",
    "        if y[i] not in x:\n",
    "            z.insert(i+1, 0)\n",
    "        else :\n",
    "            y[i]=1\n",
    "            z.append(y[i])\n",
    "    print(z)\n",
    "    loaded_model = pickle.load(open('Capstone_RFC_model.sav','rb'))\n",
    "    a = np.expand_dims(z,0)\n",
    "    result = str(loaded_model.predict(a))\n",
    "    print(result)\n",
    "    return result\n",
    "\n",
    "\n",
    "if __name__=='__main__':\n",
    "    app.run()"
   ]
  },
  {
   "cell_type": "code",
   "execution_count": null,
   "id": "4ad5e297",
   "metadata": {},
   "outputs": [],
   "source": []
  }
 ],
 "metadata": {
  "kernelspec": {
   "display_name": "Python 3 (ipykernel)",
   "language": "python",
   "name": "python3"
  },
  "language_info": {
   "codemirror_mode": {
    "name": "ipython",
    "version": 3
   },
   "file_extension": ".py",
   "mimetype": "text/x-python",
   "name": "python",
   "nbconvert_exporter": "python",
   "pygments_lexer": "ipython3",
   "version": "3.9.7"
  }
 },
 "nbformat": 4,
 "nbformat_minor": 5
}
